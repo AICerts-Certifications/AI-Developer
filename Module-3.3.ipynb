{
 "cells": [
  {
   "cell_type": "markdown",
   "metadata": {},
   "source": [
    "**Module-3.3**\n",
    "\n",
    "**3. Title:** Python Loops: An Iterative Solutions\n",
    "\n",
    "**Problem Statement:**\n",
    "\n",
    "Effective utilization of loops is pivotal in Python programming, enabling iterative execution of tasks across various data structures and conditions. Understanding the nuances of for and while loops—essential constructs for repetitive tasks—is crucial for optimizing code efficiency and clarity. Many learners encounter challenges in grasping these concepts, hindering their ability to implement iterative solutions effectively. This hands-on aims to elucidate for and while loops comprehensively, providing practical insights and examples to empower in mastering iterative programming in Python."
   ]
  },
  {
   "cell_type": "markdown",
   "metadata": {},
   "source": [
    "**1. For Loop:**\n",
    "\n",
    "The for loop iterates over a sequence (such as a list, tuple, string, or range) and executes a block of code for each element in the sequence."
   ]
  },
  {
   "cell_type": "code",
   "execution_count": null,
   "metadata": {},
   "outputs": [
    {
     "name": "stdout",
     "output_type": "stream",
     "text": [
      "apple\n",
      "banana\n",
      "cherry\n",
      "H\n",
      "e\n",
      "l\n",
      "l\n",
      "o\n",
      "0\n",
      "1\n",
      "2\n",
      "3\n",
      "4\n"
     ]
    }
   ],
   "source": [
    "#Example-1:\n",
    "\n",
    "# Iterating over a list\n",
    "fruits = [\"apple\", \"banana\", \"cherry\"]\n",
    "\n",
    "for fruit in fruits:    # for element in sequence:\n",
    "    print(fruit)        #     code to execute for each element\n",
    "\n",
    "# Output:\n",
    "# apple\n",
    "# banana\n",
    "# cherry\n",
    "\n",
    "# Iterating over a string\n",
    "message = \"Hello\"\n",
    "\n",
    "for char in message:\n",
    "    print(char)\n",
    "\n",
    "# Output:\n",
    "# H\n",
    "# e\n",
    "# l\n",
    "# l\n",
    "# o\n",
    "\n",
    "# Iterating over a range of numbers\n",
    "for i in range(5):\n",
    "    print(i)\n",
    "\n",
    "# Output:\n",
    "# 0\n",
    "# 1\n",
    "# 2\n",
    "# 3\n",
    "# 4\n"
   ]
  },
  {
   "cell_type": "code",
   "execution_count": null,
   "metadata": {},
   "outputs": [
    {
     "name": "stdout",
     "output_type": "stream",
     "text": [
      "Iteration number: 0\n",
      "Iteration number: 1\n",
      "Iteration number: 2\n",
      "Iteration number: 3\n",
      "Iteration number: 4\n"
     ]
    }
   ],
   "source": [
    "#Example-2:\n",
    "\n",
    "for i in range(5):\n",
    "    print(f\"Iteration number: {i}\")"
   ]
  },
  {
   "cell_type": "markdown",
   "metadata": {},
   "source": [
    "**2.While Loop:**\n",
    "\n",
    "The while loop executes a block of code as long as a specified condition is true. It continues iterating until the condition becomes false."
   ]
  },
  {
   "cell_type": "code",
   "execution_count": null,
   "metadata": {},
   "outputs": [
    {
     "name": "stdout",
     "output_type": "stream",
     "text": [
      "0\n",
      "1\n",
      "2\n",
      "3\n",
      "4\n",
      "Enter the password: secret\n",
      "Password correct. Access granted.\n"
     ]
    }
   ],
   "source": [
    "#Example-1:\n",
    "\n",
    "# Basic while loop\n",
    "count = 0\n",
    "\n",
    "while count < 5:           # while condition:\n",
    "    print(count)           #    code to execute as long as condition is true\n",
    "    count += 1\n",
    "\n",
    "# Output:\n",
    "# 0\n",
    "# 1\n",
    "# 2\n",
    "# 3\n",
    "# 4\n",
    "\n",
    "# Using while loop with user input\n",
    "password = \"\"\n",
    "expected_password = \"secret\"\n",
    "\n",
    "while password != expected_password:\n",
    "    password = input(\"Enter the password: \")\n",
    "\n",
    "print(\"Password correct. Access granted.\")\n",
    "\n",
    "# Output will depend on user input\n"
   ]
  },
  {
   "cell_type": "code",
   "execution_count": null,
   "metadata": {},
   "outputs": [
    {
     "name": "stdout",
     "output_type": "stream",
     "text": [
      "0\n",
      "1\n",
      "2\n",
      "3\n",
      "4\n",
      "5\n",
      "6\n",
      "7\n",
      "8\n",
      "9\n"
     ]
    }
   ],
   "source": [
    "#Example-2:\n",
    "\n",
    "count = 0\n",
    "while count < 10:\n",
    "    print(count)\n",
    "    count += 1"
   ]
  }
 ],
 "metadata": {
  "language_info": {
   "name": "python"
  }
 },
 "nbformat": 4,
 "nbformat_minor": 2
}
