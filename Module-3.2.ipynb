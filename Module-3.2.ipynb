{
 "cells": [
  {
   "cell_type": "markdown",
   "metadata": {},
   "source": [
    "**Module-3.2**\n",
    "\n",
    "**2. Title:** Understanding Python Control Flow: Mastering Else, Elif, and Nested Statements.\n",
    "\n",
    "**Problem Statement:**\n",
    "Effective control flow management is a crucial aspect of programming, allowing developers to dictate the logical progression of their code based on different conditions. Many beginners struggle with understanding and implementing control flow constructs, such as else and elif statements, and building complex logic using nested statements. This hands-on aims to demystify these control flow elements, providing clear explanations and practical examples to gain proficiency in managing program flow in Python."
   ]
  },
  {
   "cell_type": "markdown",
   "metadata": {},
   "source": [
    "**1. If Statement:**\n",
    "\n",
    "The if statement allows you to execute a block of code only if a specified condition is true. If the condition is false, the block of code will be skipped."
   ]
  },
  {
   "cell_type": "code",
   "execution_count": null,
   "metadata": {},
   "outputs": [
    {
     "name": "stdout",
     "output_type": "stream",
     "text": [
      "x is greater than 5\n"
     ]
    }
   ],
   "source": [
    "#Example-1:\n",
    "\n",
    "# Basic if statement\n",
    "x = 10\n",
    "\n",
    "if x > 5:       #if condition:\n",
    "    print(\"x is greater than 5\") # code to execute if condition is true\n",
    "\n",
    "# Output: x is greater than 5\n"
   ]
  },
  {
   "cell_type": "code",
   "execution_count": null,
   "metadata": {},
   "outputs": [
    {
     "name": "stdout",
     "output_type": "stream",
     "text": [
      "Turn on the AC!\n"
     ]
    }
   ],
   "source": [
    "#Example-2:\n",
    "\n",
    "temperature=31\n",
    "if temperature > 30:\n",
    "    print (\"Turn on the AC!\")"
   ]
  },
  {
   "cell_type": "code",
   "execution_count": null,
   "metadata": {},
   "outputs": [
    {
     "name": "stdout",
     "output_type": "stream",
     "text": [
      "Enter your age: 40\n",
      "You are eligible to vote\n"
     ]
    }
   ],
   "source": [
    "#Example-3: with user input:\n",
    "# Taking input from the user and using if statement\n",
    "age = int(input(\"Enter your age: \"))\n",
    "\n",
    "if age >= 18:\n",
    "    print(\"You are eligible to vote\")\n",
    "\n",
    "# Output will depend on user input\n"
   ]
  },
  {
   "cell_type": "code",
   "execution_count": null,
   "metadata": {},
   "outputs": [
    {
     "name": "stdout",
     "output_type": "stream",
     "text": [
      "You are a student\n",
      "You are not an employee\n"
     ]
    }
   ],
   "source": [
    "#Example-4: with boolean expressions\n",
    "\n",
    "# Using boolean expressions in if statements\n",
    "is_student = True\n",
    "\n",
    "if is_student:\n",
    "    print(\"You are a student\")\n",
    "\n",
    "# Output: You are a student\n",
    "\n",
    "is_employee = False\n",
    "\n",
    "if not is_employee:\n",
    "    print(\"You are not an employee\")\n",
    "\n",
    "# Output: You are not an employee\n"
   ]
  },
  {
   "cell_type": "markdown",
   "metadata": {},
   "source": [
    "**2. Else Statement:**\n",
    "The else statement provides an alternative block of code that executes if the condition in the if statement is False."
   ]
  },
  {
   "cell_type": "code",
   "execution_count": null,
   "metadata": {},
   "outputs": [
    {
     "name": "stdout",
     "output_type": "stream",
     "text": [
      "You are an adult.\n"
     ]
    }
   ],
   "source": [
    "#Example-1:\n",
    "\n",
    "# Using else statement\n",
    "age = 18\n",
    "\n",
    "if age >= 18:\n",
    "    print(\"You are an adult.\")\n",
    "else:\n",
    "    print(\"You are a minor.\")\n",
    "\n",
    "# Output: You are an adult.\n"
   ]
  },
  {
   "cell_type": "code",
   "execution_count": null,
   "metadata": {},
   "outputs": [
    {
     "name": "stdout",
     "output_type": "stream",
     "text": [
      "Enjoy the comfortable temperature.\n"
     ]
    }
   ],
   "source": [
    "#Example-2:\n",
    "temperature=29\n",
    "if temperature > 30:\n",
    "    print (\"It's hot! Turn on the AC.\")\n",
    "else:\n",
    "    print (\"Enjoy the comfortable temperature.\")"
   ]
  },
  {
   "cell_type": "markdown",
   "metadata": {},
   "source": [
    "**3. Elif:**\n",
    "The elif (short for else if) statement allows you to check multiple conditions sequentially. If the first condition is False, the next elif condition is evaluated, and so on."
   ]
  },
  {
   "cell_type": "code",
   "execution_count": null,
   "metadata": {},
   "outputs": [
    {
     "name": "stdout",
     "output_type": "stream",
     "text": [
      "Grade: B\n"
     ]
    }
   ],
   "source": [
    "#Example-1:\n",
    "\n",
    "# Using elif statement\n",
    "score = 85\n",
    "\n",
    "if score >= 90:\n",
    "    print(\"Grade: A\")\n",
    "elif score >= 80:\n",
    "    print(\"Grade: B\")\n",
    "elif score >= 70:\n",
    "    print(\"Grade: C\")\n",
    "else:\n",
    "    print(\"Grade: D or F\")\n",
    "\n",
    "# Output: Grade: B\n"
   ]
  },
  {
   "cell_type": "code",
   "execution_count": null,
   "metadata": {},
   "outputs": [
    {
     "name": "stdout",
     "output_type": "stream",
     "text": [
      "Sensor reading within normal range.\n"
     ]
    }
   ],
   "source": [
    "#Example-2:\n",
    "\n",
    "sensor_value=100\n",
    "if sensor_value > 100:\n",
    "    print (\"Alert: High sensor reading!\")\n",
    "elif sensor_value < 5:\n",
    "    print (\"Warning: Low sensor reading!\")\n",
    "else:\n",
    "    print (\"Sensor reading within normal range.\")"
   ]
  },
  {
   "cell_type": "markdown",
   "metadata": {},
   "source": [
    "**4. Nested Statements: Building Complex Logic**\n",
    "Nested statements are control flow statements placed within other control flow statements, enabling the creation of more complex logic."
   ]
  },
  {
   "cell_type": "code",
   "execution_count": null,
   "metadata": {},
   "outputs": [
    {
     "name": "stdout",
     "output_type": "stream",
     "text": [
      "Number is greater than 10\n",
      "Number is odd\n",
      "Grade: C\n"
     ]
    }
   ],
   "source": [
    "#Example-1:\n",
    "\n",
    "# Using nested if statements\n",
    "num = 15\n",
    "\n",
    "if num > 10:\n",
    "    print(\"Number is greater than 10\")\n",
    "    if num % 2 == 0:\n",
    "        print(\"Number is even\")\n",
    "    else:\n",
    "        print(\"Number is odd\")\n",
    "else:\n",
    "    print(\"Number is 10 or less\")\n",
    "\n",
    "# Output:\n",
    "# Number is greater than 10\n",
    "# Number is odd\n",
    "\n",
    "# Using nested if-elif-else statements\n",
    "score = 75\n",
    "attendance = 85\n",
    "\n",
    "if score >= 90:\n",
    "    if attendance >= 90:\n",
    "        print(\"Grade: A\")\n",
    "    else:\n",
    "        print(\"Grade: B due to attendance\")\n",
    "elif score >= 80:\n",
    "    if attendance >= 80:\n",
    "        print(\"Grade: B\")\n",
    "    else:\n",
    "        print(\"Grade: C due to attendance\")\n",
    "else:\n",
    "    if attendance >= 70:\n",
    "        print(\"Grade: C\")\n",
    "    else:\n",
    "        print(\"Grade: D due to attendance\")\n",
    "\n",
    "# Output: Grade: C\n"
   ]
  },
  {
   "cell_type": "code",
   "execution_count": null,
   "metadata": {},
   "outputs": [
    {
     "name": "stdout",
     "output_type": "stream",
     "text": [
      "Make the most of your day!\n"
     ]
    }
   ],
   "source": [
    "#Example-2:\n",
    "\n",
    "time_of_day=\"day\"\n",
    "if time_of_day == \"night\":\n",
    "    if location == \"home\":\n",
    "        print(\"Time to sleep!\")\n",
    "    else:\n",
    "        print(\"Be careful and stay safe!\")\n",
    "else:\n",
    "    print(\"Make the most of your day!\")"
   ]
  },
  {
   "cell_type": "code",
   "execution_count": null,
   "metadata": {},
   "outputs": [
    {
     "name": "stdout",
     "output_type": "stream",
     "text": [
      "It's a warm and sunny day\n",
      "It's neither cold nor raining\n"
     ]
    }
   ],
   "source": [
    "#Example-3: with multiple conditions using logical operators\n",
    "\n",
    "# Using logical operators (and, or, not) in if statements\n",
    "temperature = 25\n",
    "is_sunny = True\n",
    "\n",
    "if temperature > 20 and is_sunny:\n",
    "    print(\"It's a warm and sunny day\")\n",
    "\n",
    "# Output: It's a warm and sunny day\n",
    "\n",
    "is_raining = False\n",
    "\n",
    "if temperature < 20 or is_raining:\n",
    "    print(\"It's either cold or raining\")\n",
    "else:\n",
    "    print(\"It's neither cold nor raining\")\n",
    "\n",
    "# Output: It's neither cold nor raining\n"
   ]
  }
 ],
 "metadata": {
  "language_info": {
   "name": "python"
  }
 },
 "nbformat": 4,
 "nbformat_minor": 2
}
