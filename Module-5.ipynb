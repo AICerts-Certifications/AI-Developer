{
 "cells": [
  {
   "cell_type": "markdown",
   "metadata": {},
   "source": [
    "**Module 5: Deep Learning**"
   ]
  },
  {
   "cell_type": "markdown",
   "metadata": {},
   "source": [
    "**Excercise-1**  \n",
    "\n",
    "**Title:** Building a Simple Neural Network to Classify Handwritten Digits\n",
    "\n",
    "**Problem Statement:**\n",
    "Handwritten digit recognition is a fundamental machine learning problem that involves classifying images of handwritten digits (0-9). The objective is to build and train a simple neural network that can accurately classify these digits using the MNIST dataset. This task is pivotal in understanding the basics of neural networks and deep learning.\n",
    "\n",
    "**Steps to be Followed:**\n",
    "\n",
    "**1.\tImport Necessary Libraries:**\n",
    "    \n",
    "    a.\tImport TensorFlow and other required libraries for building and training the neural network.\n",
    "\n",
    "**2.\tLoad and Preprocess the Dataset:**\n",
    "\n",
    "    a.\tLoad the MNIST dataset, which contains 60,000 training images and 10,000 testing images of handwritten digits.\n",
    "\n",
    "    b.\tNormalize the pixel values of the images to be between 0 and 1 by dividing by 255.0.\n",
    "\n",
    "**3.\tBuild the Neural Network Model:**\n",
    "\n",
    "    a.\tDefine a Sequential model.\n",
    "\n",
    "    b.\tAdd a Flatten layer to convert each 28x28 image into a 784-dimensional vector.\n",
    "\n",
    "    c.\tAdd a Dense layer with 128 neurons and ReLU activation function.\n",
    "\n",
    "    d.\tAdd a Dropout layer with a dropout rate of 0.2 to prevent overfitting.\n",
    "\n",
    "    e.\tAdd a Dense layer with 10 neurons and a softmax activation function for the output layer, corresponding to the 10 digit classes.\n",
    "\n",
    "**4.\tCompile the Model:**\n",
    "\n",
    "    a.\tCompile the model using the Adam optimizer.\n",
    "\n",
    "    b.\tUse sparse categorical crossentropy as the loss function.\n",
    "\n",
    "    c.\tTrack accuracy as the evaluation metric.\n",
    "\n",
    "**5.\tTrain the Model:**\n",
    "\n",
    "    a.\tTrain the model on the training data for 5 epochs.\n",
    "\n",
    "**6.\tEvaluate the Model:**\n",
    "\n",
    "    a.\tEvaluate the model's performance on the test data and print the test accuracy\n"
   ]
  },
  {
   "cell_type": "code",
   "execution_count": null,
   "metadata": {},
   "outputs": [
    {
     "name": "stdout",
     "output_type": "stream",
     "text": [
      "Downloading data from https://storage.googleapis.com/tensorflow/tf-keras-datasets/mnist.npz\n",
      "11490434/11490434 [==============================] - 0s 0us/step\n",
      "Epoch 1/5\n",
      "1875/1875 [==============================] - 11s 5ms/step - loss: 0.2932 - accuracy: 0.9142\n",
      "Epoch 2/5\n",
      "1875/1875 [==============================] - 6s 3ms/step - loss: 0.1421 - accuracy: 0.9585\n",
      "Epoch 3/5\n",
      "1875/1875 [==============================] - 6s 3ms/step - loss: 0.1081 - accuracy: 0.9680\n",
      "Epoch 4/5\n",
      "1875/1875 [==============================] - 5s 3ms/step - loss: 0.0871 - accuracy: 0.9732\n",
      "Epoch 5/5\n",
      "1875/1875 [==============================] - 7s 4ms/step - loss: 0.0747 - accuracy: 0.9762\n",
      "313/313 - 1s - loss: 0.0727 - accuracy: 0.9780 - 923ms/epoch - 3ms/step\n",
      "\n",
      "Test accuracy: 0.9779999852180481\n"
     ]
    }
   ],
   "source": [
    "import tensorflow as tf\n",
    "from tensorflow.keras import layers, models\n",
    "\n",
    "# Load and preprocess the MNIST dataset\n",
    "mnist = tf.keras.datasets.mnist\n",
    "(x_train, y_train), (x_test, y_test) = mnist.load_data()\n",
    "x_train, x_test = x_train / 255.0, x_test / 255.0\n",
    "\n",
    "# Build the neural network model\n",
    "model = models.Sequential([\n",
    "    layers.Flatten(input_shape=(28, 28)),\n",
    "    layers.Dense(128, activation='relu'),\n",
    "    layers.Dropout(0.2),\n",
    "    layers.Dense(10, activation='softmax')\n",
    "])\n",
    "\n",
    "# Compile the model\n",
    "model.compile(optimizer='adam',\n",
    "              loss='sparse_categorical_crossentropy',\n",
    "              metrics=['accuracy'])\n",
    "\n",
    "# Train the model\n",
    "model.fit(x_train, y_train, epochs=5)\n",
    "\n",
    "# Evaluate the model\n",
    "test_loss, test_acc = model.evaluate(x_test, y_test, verbose=2)\n",
    "print('\\nTest accuracy:', test_acc)\n"
   ]
  },
  {
   "cell_type": "markdown",
   "metadata": {},
   "source": [
    "**Code Analysis and Explanation:**\n",
    "\n",
    "**1.\tImport Necessary Libraries:**\n",
    "\n",
    "    a.\ttensorflow: TensorFlow library to build and train the neural network.\n",
    "\n",
    "    b.\tlayers: For defining layers of the neural network.\n",
    "\n",
    "    c.\tmodels: To create the Sequential model.\n",
    "\n",
    "**2.\tLoad and Preprocess the Dataset:**\n",
    "\n",
    "    a.\tmnist.load_data(): Loads the MNIST dataset.\n",
    "\n",
    "    b.\tx_train, x_test = x_train / 255.0, x_test / 255.0: Normalizes the pixel values to range [0, 1].\n",
    "\n",
    "**3.\tBuild the Neural Network Model:**\n",
    "\n",
    "    a.\tlayers.Flatten(input_shape=(28, 28)): Flattens the 28x28 input images into 1D vectors.\n",
    "\n",
    "    b.\tlayers.Dense(128, activation='relu'): Fully connected layer with 128 neurons and ReLU activation.\n",
    "\n",
    "    c.\tlayers.Dropout(0.2): Dropout layer with 20% dropout rate to reduce overfitting.\n",
    "\n",
    "    d.\tlayers.Dense(10, activation='softmax'): Output layer with 10 neurons (one for each class) and softmax activation.\n",
    "\n",
    "**4.\tCompile the Model:**\n",
    "\n",
    "    a.\toptimizer='adam': Uses the Adam optimizer for training.\n",
    "\n",
    "    b.\tloss='sparse_categorical_crossentropy': Uses sparse categorical cross-entropy as the loss function.\n",
    "\n",
    "    c.\tmetrics=['accuracy']: Tracks accuracy during training and evaluation.\n",
    "\n",
    "**5.\tTrain the Model:**\n",
    "\n",
    "    a.\tmodel.fit(x_train, y_train, epochs=5): Trains the model on the training data for 5 epochs.\n",
    "\n",
    "**6.\tEvaluate the Model:**\n",
    "\n",
    "    a.\tmodel.evaluate(x_test, y_test, verbose=2): Evaluates the model on the test data and prints the accuracy.\n"
   ]
  },
  {
   "cell_type": "markdown",
   "metadata": {},
   "source": [
    "\n",
    "**Excercise-2**\n",
    "\n",
    "**Title:** Image Classification for a Custom Dataset using Transfer Learning with VGG16.\n",
    "\n",
    "**Problem Statement:**\n",
    "The objective is to classify images from a custom dataset (e.g., flowers, animals, clothing items) using a pre-trained VGG16 model. By leveraging transfer learning, we can utilize the pre-trained VGG16 model's ability to extract features from images and add our own fully connected layers to fine-tune the model for our specific classification task.\n",
    "\n",
    "**Steps to be Followed:**\n",
    "\n",
    "**1.\tGenerate Synthetic Data:**\n",
    "\n",
    "    a.\tCreate synthetic images and labels.\n",
    "\n",
    "    b.\tUse NumPy to generate random image data and corresponding labels.\n",
    "\n",
    "**2.\tPreprocess the Data:**\n",
    "\n",
    "    a.\tNormalize the pixel values.\n",
    "\n",
    "**3.\tTrain and Evaluate the Model:**\n",
    "\n",
    "    a.\tUse the generated data for training and evaluation.\n"
   ]
  },
  {
   "cell_type": "code",
   "execution_count": null,
   "metadata": {},
   "outputs": [
    {
     "name": "stderr",
     "output_type": "stream",
     "text": [
      "WARNING:absl:`lr` is deprecated in Keras optimizer, please use `learning_rate` or use the legacy optimizer, e.g.,tf.keras.optimizers.legacy.Adam.\n"
     ]
    },
    {
     "name": "stdout",
     "output_type": "stream",
     "text": [
      "Epoch 1/10\n",
      "32/32 [==============================] - 652s 20s/step - loss: 1.8060 - accuracy: 0.1930 - val_loss: 1.6095 - val_accuracy: 0.2100\n",
      "Epoch 2/10\n",
      "32/32 [==============================] - 647s 20s/step - loss: 1.6094 - accuracy: 0.1990 - val_loss: 1.6094 - val_accuracy: 0.1850\n",
      "Epoch 3/10\n",
      "32/32 [==============================] - 642s 20s/step - loss: 1.6092 - accuracy: 0.1840 - val_loss: 1.6090 - val_accuracy: 0.2250\n",
      "Epoch 4/10\n",
      "32/32 [==============================] - 643s 20s/step - loss: 1.6091 - accuracy: 0.2140 - val_loss: 1.6088 - val_accuracy: 0.2250\n",
      "Epoch 5/10\n",
      "32/32 [==============================] - 646s 20s/step - loss: 1.6089 - accuracy: 0.2140 - val_loss: 1.6083 - val_accuracy: 0.2250\n",
      "Epoch 6/10\n",
      "32/32 [==============================] - 602s 19s/step - loss: 1.6089 - accuracy: 0.2140 - val_loss: 1.6082 - val_accuracy: 0.2250\n",
      "Epoch 7/10\n",
      "32/32 [==============================] - 648s 20s/step - loss: 1.6088 - accuracy: 0.2140 - val_loss: 1.6078 - val_accuracy: 0.2250\n",
      "Epoch 8/10\n",
      "32/32 [==============================] - 601s 19s/step - loss: 1.6086 - accuracy: 0.2140 - val_loss: 1.6078 - val_accuracy: 0.2250\n",
      "Epoch 9/10\n",
      "32/32 [==============================] - 641s 20s/step - loss: 1.6086 - accuracy: 0.2140 - val_loss: 1.6078 - val_accuracy: 0.2250\n",
      "Epoch 10/10\n",
      "32/32 [==============================] - 642s 20s/step - loss: 1.6086 - accuracy: 0.2140 - val_loss: 1.6076 - val_accuracy: 0.2250\n",
      "7/7 [==============================] - 99s 14s/step - loss: 1.6103 - accuracy: 0.1500\n",
      "Test accuracy: 0.15000000596046448\n"
     ]
    },
    {
     "data": {
      "image/png": "[encoded data removed]",
      "text/plain": [
       "<Figure size 640x480 with 1 Axes>"
      ]
     },
     "metadata": {},
     "output_type": "display_data"
    },
    {
     "data": {
      "image/png": "[encoded data removed]",
      "text/plain": [
       "<Figure size 640x480 with 1 Axes>"
      ]
     },
     "metadata": {},
     "output_type": "display_data"
    }
   ],
   "source": [
    "import numpy as np\n",
    "import tensorflow as tf\n",
    "from tensorflow.keras.applications import VGG16\n",
    "from tensorflow.keras.layers import Dense, Flatten, Dropout, Input\n",
    "from tensorflow.keras.models import Model\n",
    "from tensorflow.keras.optimizers import Adam\n",
    "\n",
    "# Number of classes in the dataset\n",
    "num_classes = 5  # Update this with the number of classes in your dataset\n",
    "\n",
    "# Generate synthetic data\n",
    "def generate_synthetic_data(num_samples, img_height, img_width, num_classes):\n",
    "    # Random images and labels\n",
    "    X = np.random.random((num_samples, img_height, img_width, 3))\n",
    "    y = np.random.randint(0, num_classes, num_samples)\n",
    "    y = tf.keras.utils.to_categorical(y, num_classes)\n",
    "    return X, y\n",
    "\n",
    "# Image dimensions\n",
    "img_height, img_width = 224, 224\n",
    "\n",
    "# Generate training, validation, and testing data\n",
    "X_train, y_train = generate_synthetic_data(1000, img_height, img_width, num_classes)\n",
    "X_val, y_val = generate_synthetic_data(200, img_height, img_width, num_classes)\n",
    "X_test, y_test = generate_synthetic_data(200, img_height, img_width, num_classes)\n",
    "\n",
    "# Normalize the pixel values\n",
    "X_train, X_val, X_test = X_train / 255.0, X_val / 255.0, X_test / 255.0\n",
    "\n",
    "# Load pre-trained VGG16 model\n",
    "base_model = VGG16(weights='imagenet', include_top=False, input_shape=(img_height, img_width, 3))\n",
    "\n",
    "# Freeze pre-trained layers\n",
    "for layer in base_model.layers:\n",
    "    layer.trainable = False\n",
    "\n",
    "# Add new fully connected layers\n",
    "x = base_model.output\n",
    "x = Flatten()(x)\n",
    "x = Dense(128, activation='relu')(x)\n",
    "x = Dropout(0.5)(x)\n",
    "predictions = Dense(num_classes, activation='softmax')(x)\n",
    "\n",
    "# Create new model\n",
    "model = Model(inputs=base_model.input, outputs=predictions)\n",
    "\n",
    "# Compile the model\n",
    "model.compile(optimizer=Adam(lr=0.0001), loss='categorical_crossentropy', metrics=['accuracy'])\n",
    "\n",
    "# Train the model\n",
    "history = model.fit(X_train, y_train, epochs=10, validation_data=(X_val, y_val))\n",
    "\n",
    "# Evaluate the model\n",
    "test_loss, test_acc = model.evaluate(X_test, y_test)\n",
    "print('Test accuracy:', test_acc)\n",
    "\n",
    "# Plot training and validation accuracy and loss\n",
    "import matplotlib.pyplot as plt\n",
    "\n",
    "acc = history.history['accuracy']\n",
    "val_acc = history.history['val_accuracy']\n",
    "loss = history.history['loss']\n",
    "val_loss = history.history['val_loss']\n",
    "\n",
    "epochs = range(len(acc))\n",
    "\n",
    "# Plot training and validation accuracy\n",
    "plt.figure()\n",
    "plt.plot(epochs, acc, 'r', label='Training accuracy')\n",
    "plt.plot(epochs, val_acc, 'b', label='Validation accuracy')\n",
    "plt.title('Training and validation accuracy')\n",
    "plt.legend()\n",
    "\n",
    "# Plot training and validation loss\n",
    "plt.figure()\n",
    "plt.plot(epochs, loss, 'r', label='Training Loss')\n",
    "plt.plot(epochs, val_loss, 'b', label='Validation Loss')\n",
    "plt.title('Training and validation loss')\n",
    "plt.legend()\n",
    "\n",
    "plt.show()\n",
    "\n"
   ]
  },
  {
   "cell_type": "markdown",
   "metadata": {},
   "source": [
    "**Code Analysis and Explanation:**\n",
    "\n",
    "**1.\tGenerate Synthetic Data:**\n",
    "\n",
    "    a.\tgenerate_synthetic_data: This function generates random image data and one-hot encoded labels for a given number of samples.\n",
    "\n",
    "**2.\tPreprocess the Data:**\n",
    "\n",
    "    a.\tNormalize the pixel values by dividing by 255.0.\n",
    "\n",
    "**3.\tLoad and Customize the Model:**\n",
    "\n",
    "    a.\tUse VGG16 as the base model.\n",
    "\n",
    "    b.\tAdd custom layers on top of VGG16 for the specific classification task.\n",
    "\n",
    "**4.\tCompile and Train the Model:**\n",
    "\n",
    "    a.\tCompile the model with the Adam optimizer and categorical cross-entropy loss.\n",
    "\n",
    "    b.\tTrain the model using the synthetic training and validation data.\n",
    "\n",
    "**5.\tEvaluate the Model:**\n",
    "\n",
    "    a.\tEvaluate the model on synthetic test data.\n",
    "\n",
    "    b.\tPlot the training and validation accuracy and loss over epochs.\n"
   ]
  },
  {
   "cell_type": "markdown",
   "metadata": {},
   "source": [
    "**Excercise-3**\n",
    "\n",
    "**Title:** Text Generation, Sentiment Analysis, and Machine Translation using a Recurrent Neural Network\n",
    "\n",
    "**Problem Statement:**\n",
    "The goal of this excercise is to build a sequential model using GRU layers to perform tasks related to natural language processing (NLP). Specifically, the tasks include text generation, sentiment analysis, and machine translation. This involves preprocessing text data, training a model on this data, and generating new text based on a given seed text.\n",
    "\n",
    "**Steps to be Followed:**\n",
    "\n",
    "**1.\tPreprocess Text Data:**\n",
    "\n",
    "    a.\tTokenize the text data to convert it into sequences of integers.\n",
    "\n",
    "    b.\tPad the sequences to ensure uniform length for model input.\n",
    "\n",
    "**2.\tDefine and Compile the Model:**\n",
    "\n",
    "    a.\tUse an embedding layer to represent the input text.\n",
    "\n",
    "    b.\tAdd GRU layers to capture sequential dependencies in the text data.\n",
    "\n",
    "    c.\tAdd a dense layer for classification.\n",
    "\n",
    "**3.\tPrepare the Output Data:**\n",
    "\n",
    "    a.\tCreate a dummy output dataset for training purposes (for this example, random data is used).\n",
    "\n",
    "**4.\tTrain the Model:**\n",
    "\n",
    "    a.\tTrain the model using the preprocessed text data and the dummy output data.\n",
    "\n",
    "**5.\tGenerate New Text:**\n",
    "\n",
    "    a.\tUse the trained model to generate new text based on a given seed text.\n"
   ]
  },
  {
   "cell_type": "code",
   "execution_count": null,
   "metadata": {},
   "outputs": [
    {
     "name": "stdout",
     "output_type": "stream",
     "text": [
      "Epoch 1/10\n",
      "1/1 [==============================] - 4s 4s/step - loss: 3424456.0000\n",
      "Epoch 2/10\n",
      "1/1 [==============================] - 0s 17ms/step - loss: 3424415.2500\n",
      "Epoch 3/10\n",
      "1/1 [==============================] - 0s 16ms/step - loss: 3424374.7500\n",
      "Epoch 4/10\n",
      "1/1 [==============================] - 0s 14ms/step - loss: 3424335.7500\n",
      "Epoch 5/10\n",
      "1/1 [==============================] - 0s 17ms/step - loss: 3424298.7500\n",
      "Epoch 6/10\n",
      "1/1 [==============================] - 0s 14ms/step - loss: 3424263.0000\n",
      "Epoch 7/10\n",
      "1/1 [==============================] - 0s 16ms/step - loss: 3424228.7500\n",
      "Epoch 8/10\n",
      "1/1 [==============================] - 0s 12ms/step - loss: 3424196.2500\n",
      "Epoch 9/10\n",
      "1/1 [==============================] - 0s 15ms/step - loss: 3424166.2500\n",
      "Epoch 10/10\n",
      "1/1 [==============================] - 0s 13ms/step - loss: 3424139.7500\n",
      "I went to the          \n"
     ]
    }
   ],
   "source": [
    "import numpy as np\n",
    "from tensorflow.keras.preprocessing.text import Tokenizer\n",
    "from tensorflow.keras.preprocessing.sequence import pad_sequences\n",
    "from tensorflow.keras.models import Sequential\n",
    "from tensorflow.keras.layers import Embedding, GRU, Dense\n",
    "\n",
    "# Preprocess text data\n",
    "text_data = [\"This is a great movie!\", \"This product is terrible.\", \"I enjoyed the book.\"]\n",
    "tokenizer = Tokenizer(num_words=1000)\n",
    "tokenizer.fit_on_texts(text_data)\n",
    "sequences = tokenizer.texts_to_sequences(text_data)\n",
    "word_index = tokenizer.word_index\n",
    "\n",
    "# Pad sequences to ensure uniform length\n",
    "max_sequence_length = max(len(seq) for seq in sequences)\n",
    "padded_sequences = pad_sequences(sequences, maxlen=max_sequence_length)\n",
    "\n",
    "# Define the model\n",
    "model = Sequential()\n",
    "model.add(Embedding(input_dim=1000, output_dim=128, input_length=max_sequence_length))\n",
    "model.add(GRU(64, return_sequences=True))\n",
    "model.add(GRU(32))\n",
    "model.add(Dense(1000, activation='softmax'))\n",
    "model.compile(loss='categorical_crossentropy', optimizer='adam')\n",
    "\n",
    "# Prepare the output data\n",
    "num_classes = 1000  # As specified in the tokenizer\n",
    "output_data = np.random.randint(0, num_classes, size=(len(text_data), num_classes))\n",
    "\n",
    "# Train the model\n",
    "model.fit(padded_sequences, output_data, epochs=10)\n",
    "\n",
    "# Generate new text\n",
    "start_text = \"I went to the\"\n",
    "generated_text = start_text\n",
    "\n",
    "for _ in range(10):  # Generate 10 words\n",
    "    encoded_text = tokenizer.texts_to_sequences([start_text])[0]\n",
    "    padded_encoded_text = pad_sequences([encoded_text], maxlen=max_sequence_length)\n",
    "    prediction = model.predict(padded_encoded_text, verbose=0)[0]\n",
    "    predicted_word_index = np.argmax(prediction)\n",
    "    predicted_word = tokenizer.index_word.get(predicted_word_index, '')\n",
    "\n",
    "    start_text += ' ' + predicted_word\n",
    "    generated_text += ' ' + predicted_word\n",
    "\n",
    "print(generated_text)\n"
   ]
  },
  {
   "cell_type": "markdown",
   "metadata": {},
   "source": [
    "**Code Analysis and Explanation:**\n",
    "\n",
    "**1.\tPreprocessing:** The text data is tokenized and padded to ensure uniform input length.\n",
    "\n",
    "**2.\tModel Architecture:** The model consists of an embedding layer followed by two GRU layers and a dense output layer. This setup helps in capturing the sequential nature of the text data.\n",
    "\n",
    "**3.\tTraining:** The model is trained on synthetic data (randomly generated) for simplicity in this example.\n",
    "\n",
    "**4.\tText Generation:** After training, the model is used to generate new text based on a provided seed text.\n"
   ]
  },
  {
   "cell_type": "markdown",
   "metadata": {},
   "source": [
    "\n",
    "**Excercise-4**\n",
    "\n",
    "**Title:**Sentiment Analysis using LSTM\n",
    "\n",
    "**Problem Statement:**\n",
    "The goal of this project is to build a neural network model using LSTM (Long Short-Term Memory) layers to perform sentiment analysis on text data. The model will classify text inputs as either positive or negative based on the sentiments expressed in the text.\n",
    "\n",
    "**Steps to be Followed:**\n",
    "\n",
    "**1.\tPreprocess Text Data:**\n",
    "\n",
    "    a.\tTokenize the text data to convert it into sequences of integers.\n",
    "\n",
    "    b.\tPad the sequences to ensure uniform length for model input.\n",
    "\n",
    "**2.\tDefine and Compile the Model:**\n",
    "\n",
    "    a.\tUse an embedding layer to represent the input text.\n",
    "\n",
    "    b.\tAdd an LSTM layer to capture sequential dependencies in the text data.\n",
    "\n",
    "    c.\tAdd a dense layer with a sigmoid activation function for binary classification.\n",
    "\n",
    "**3.\tTrain the Model:**\n",
    "\n",
    "    a.\tTrain the model using the preprocessed text data and corresponding sentiment labels.\n",
    "\n",
    "**4.\tPredict Sentiment for New Text:**\n",
    "\n",
    "    a.\tTokenize and pad a new text input.\n",
    "\n",
    "    b.\tUse the trained model to predict the sentiment of the new text.\n",
    "\n",
    "    c.\tClassify the text as positive or negative based on the model's prediction.\n",
    "\n"
   ]
  },
  {
   "cell_type": "code",
   "execution_count": null,
   "metadata": {},
   "outputs": [
    {
     "name": "stdout",
     "output_type": "stream",
     "text": [
      "Epoch 1/10\n",
      "1/1 [==============================] - 2s 2s/step - loss: 0.6938\n",
      "Epoch 2/10\n",
      "1/1 [==============================] - 0s 15ms/step - loss: 0.6854\n",
      "Epoch 3/10\n",
      "1/1 [==============================] - 0s 16ms/step - loss: 0.6771\n",
      "Epoch 4/10\n",
      "1/1 [==============================] - 0s 12ms/step - loss: 0.6686\n",
      "Epoch 5/10\n",
      "1/1 [==============================] - 0s 15ms/step - loss: 0.6600\n",
      "Epoch 6/10\n",
      "1/1 [==============================] - 0s 12ms/step - loss: 0.6510\n",
      "Epoch 7/10\n",
      "1/1 [==============================] - 0s 14ms/step - loss: 0.6416\n",
      "Epoch 8/10\n",
      "1/1 [==============================] - 0s 14ms/step - loss: 0.6316\n",
      "Epoch 9/10\n",
      "1/1 [==============================] - 0s 13ms/step - loss: 0.6209\n",
      "Epoch 10/10\n",
      "1/1 [==============================] - 0s 14ms/step - loss: 0.6094\n",
      "1/1 [==============================] - 0s 442ms/step\n",
      "Positive\n"
     ]
    }
   ],
   "source": [
    "import numpy as np\n",
    "from tensorflow.keras.preprocessing.text import Tokenizer\n",
    "from tensorflow.keras.preprocessing.sequence import pad_sequences\n",
    "from tensorflow.keras.models import Sequential\n",
    "from tensorflow.keras.layers import Embedding, LSTM, Dense\n",
    "\n",
    "# Preprocess text data\n",
    "text_data = [\"This is a great movie!\", \"This product is terrible.\", \"I enjoyed the book.\"]\n",
    "labels = np.array([1, 0, 1])  # Positive, negative, positive\n",
    "tokenizer = Tokenizer(num_words=1000)\n",
    "tokenizer.fit_on_texts(text_data)\n",
    "sequences = tokenizer.texts_to_sequences(text_data)\n",
    "\n",
    "# Pad sequences to ensure uniform length\n",
    "max_sequence_length = max(len(seq) for seq in sequences)\n",
    "padded_sequences = pad_sequences(sequences, maxlen=max_sequence_length)\n",
    "\n",
    "# Create the model\n",
    "model = Sequential()\n",
    "model.add(Embedding(1000, 128, input_length=max_sequence_length))\n",
    "model.add(LSTM(64))\n",
    "model.add(Dense(1, activation='sigmoid'))\n",
    "model.compile(loss='binary_crossentropy', optimizer='adam')\n",
    "\n",
    "# Train the model\n",
    "model.fit(padded_sequences, labels, epochs=10)\n",
    "\n",
    "# Predict sentiment for new text\n",
    "new_text = \"This is a good product.\"\n",
    "encoded_text = tokenizer.texts_to_sequences([new_text])[0]\n",
    "padded_encoded_text = pad_sequences([encoded_text], maxlen=max_sequence_length)\n",
    "prediction = model.predict(np.array(padded_encoded_text))\n",
    "if prediction[0] > 0.5:\n",
    "    print(\"Positive\")\n",
    "else:\n",
    "    print(\"Negative\")\n"
   ]
  },
  {
   "cell_type": "markdown",
   "metadata": {},
   "source": [
    "**Code Analysis and Explanation:**\n",
    "\n",
    "**1. Preprocessing:** The text data is tokenized and padded to ensure uniform input length, which is essential for feeding into the LSTM model.\n",
    "\n",
    "**2. Model Architecture:** The model consists of an embedding layer followed by an LSTM layer and a dense output layer with a sigmoid activation function. This setup helps in capturing the sequential nature of the text data and performing binary classification.\n",
    "\n",
    "**3. Training:** The model is trained on a small set of labeled text data (positive or negative sentiment).\n",
    "\n",
    "**4. Prediction:** The model can predict the sentiment of new text inputs by tokenizing and padding the input text and passing it through the trained model."
   ]
  },
  {
   "cell_type": "markdown",
   "metadata": {},
   "source": [
    "\n",
    "**Exercise-5**\n",
    "\n",
    "**Title:** Machine Translation using T5 Model\n",
    "\n",
    "**Problem Statement:**\n",
    "The objective of this exercise is to perform machine translation from English to French using a pre-trained T5 model. The T5 model will be used to translate given English text into French.\n",
    "\n",
    "**Steps to be Followed:**\n",
    "\n",
    "**1.\tLoad the Pre-trained T5 Model and Tokenizer:**\n",
    "\n",
    "    a.\tUtilize the Hugging Face transformers library to load the pre-trained T5 model (t5-small) and its corresponding tokenizer.\n",
    "\n",
    "**2.\tPrepare the Input Text:**\n",
    "\n",
    "    a.\tFormat the English text to include the translation task prefix (\"translate English to French:\") as required by the T5 model.\n",
    "\n",
    "    b.\tTokenize the formatted text to convert it into input IDs that the model can process.\n",
    "\n",
    "**3.\tGenerate the Translation:**\n",
    "\n",
    "    a.\tUse the T5 model to generate the French translation of the input text.\n",
    "\n",
    "    b.\tDecode the generated token IDs to obtain the translated text in French.\n",
    "\n",
    "**4.\tPrint the Translated Text:**\n",
    "\n",
    "    a.\tOutput the translated French text to verify the results.\n"
   ]
  },
  {
   "cell_type": "code",
   "execution_count": null,
   "metadata": {},
   "outputs": [
    {
     "name": "stderr",
     "output_type": "stream",
     "text": [
      "/usr/local/lib/python3.10/dist-packages/huggingface_hub/utils/_token.py:89: UserWarning: \n",
      "The secret `HF_TOKEN` does not exist in your Colab secrets.\n",
      "To authenticate with the Hugging Face Hub, create a token in your settings tab (https://huggingface.co/settings/tokens), set it as secret in your Google Colab and restart your session.\n",
      "You will be able to reuse this secret in all of your notebooks.\n",
      "Please note that authentication is recommended but still optional to access public models or datasets.\n",
      "  warnings.warn(\n"
     ]
    },
    {
     "data": {
      "application/vnd.jupyter.widget-view+json": {
       "model_id": "da822eb846064eb88d94d7cef6f210cf",
       "version_major": 2,
       "version_minor": 0
      },
      "text/plain": [
       "tokenizer_config.json:   0%|          | 0.00/2.32k [00:00<?, ?B/s]"
      ]
     },
     "metadata": {},
     "output_type": "display_data"
    },
    {
     "data": {
      "application/vnd.jupyter.widget-view+json": {
       "model_id": "c358d5b01e7b45d3b9fc6065fe30b6ca",
       "version_major": 2,
       "version_minor": 0
      },
      "text/plain": [
       "spiece.model:   0%|          | 0.00/792k [00:00<?, ?B/s]"
      ]
     },
     "metadata": {},
     "output_type": "display_data"
    },
    {
     "data": {
      "application/vnd.jupyter.widget-view+json": {
       "model_id": "5a8ab223bf304ce69404cb98cdd78be6",
       "version_major": 2,
       "version_minor": 0
      },
      "text/plain": [
       "tokenizer.json:   0%|          | 0.00/1.39M [00:00<?, ?B/s]"
      ]
     },
     "metadata": {},
     "output_type": "display_data"
    },
    {
     "name": "stderr",
     "output_type": "stream",
     "text": [
      "You are using the default legacy behaviour of the <class 'transformers.models.t5.tokenization_t5.T5Tokenizer'>. This is expected, and simply means that the `legacy` (previous) behavior will be used so nothing changes for you. If you want to use the new behaviour, set `legacy=False`. This should only be set if you understand what it means, and thoroughly read the reason why this was added as explained in https://github.com/huggingface/transformers/pull/24565\n",
      "Special tokens have been added in the vocabulary, make sure the associated word embeddings are fine-tuned or trained.\n"
     ]
    },
    {
     "data": {
      "application/vnd.jupyter.widget-view+json": {
       "model_id": "2235365ab66d478394586497756d8e85",
       "version_major": 2,
       "version_minor": 0
      },
      "text/plain": [
       "config.json:   0%|          | 0.00/1.21k [00:00<?, ?B/s]"
      ]
     },
     "metadata": {},
     "output_type": "display_data"
    },
    {
     "data": {
      "application/vnd.jupyter.widget-view+json": {
       "model_id": "b97d3e60dd9c486bb00f8234a915f584",
       "version_major": 2,
       "version_minor": 0
      },
      "text/plain": [
       "model.safetensors:   0%|          | 0.00/242M [00:00<?, ?B/s]"
      ]
     },
     "metadata": {},
     "output_type": "display_data"
    },
    {
     "name": "stderr",
     "output_type": "stream",
     "text": [
      "All PyTorch model weights were used when initializing TFT5ForConditionalGeneration.\n",
      "\n",
      "All the weights of TFT5ForConditionalGeneration were initialized from the PyTorch model.\n",
      "If your task is similar to the task the model of the checkpoint was trained on, you can already use TFT5ForConditionalGeneration for predictions without further training.\n"
     ]
    },
    {
     "name": "stdout",
     "output_type": "stream",
     "text": [
      "C'est un grand film.\n"
     ]
    }
   ],
   "source": [
    "from transformers import T5Tokenizer, TFT5ForConditionalGeneration\n",
    "\n",
    "# Load the pre-trained T5 model and tokenizer for English-French translation\n",
    "model_name = \"t5-small\"\n",
    "tokenizer = T5Tokenizer.from_pretrained(model_name)\n",
    "model = TFT5ForConditionalGeneration.from_pretrained(model_name)\n",
    "\n",
    "# Prepare the input text in the T5 format\n",
    "english_text = \"translate English to French: This is a great movie.\"\n",
    "input_ids = tokenizer.encode(english_text, return_tensors=\"tf\")\n",
    "\n",
    "# Generate the translation\n",
    "outputs = model.generate(input_ids, max_length=50, num_beams=4, early_stopping=True)\n",
    "french_text = tokenizer.decode(outputs[0], skip_special_tokens=True)\n",
    "\n",
    "print(french_text)\n"
   ]
  },
  {
   "cell_type": "markdown",
   "metadata": {},
   "source": [
    "**Code Analysis and Explanation:**\n",
    "\n",
    "**1.\tLoad the Pre-trained T5 Model and Tokenizer:**\n",
    "\n",
    "    a.\tUtilize the Hugging Face transformers library to load the pre-trained T5 model (t5-small) and its corresponding tokenizer.\n",
    "\n",
    "**2.\tPrepare the Input Text:**\n",
    "\n",
    "    a.\tFormat the English text to include the translation task prefix (\"translate English to French:\") as required by the T5 model.\n",
    "\n",
    "    b.\tTokenize the formatted text to convert it into input IDs that the model can process.\n",
    "\n",
    "**3.\tGenerate the Translation:**\n",
    "\n",
    "    a.\tUse the T5 model to generate the French translation of the input text.\n",
    "\n",
    "    b.\tDecode the generated token IDs to obtain the translated text in French.\n",
    "\n",
    "**4.\tPrint the Translated Text:**\n",
    "\n",
    "    a.\tOutput the translated French text to verify the results.\n"
   ]
  }
 ],
 "metadata": {
  "language_info": {
   "name": "python"
  }
 },
 "nbformat": 4,
 "nbformat_minor": 2
}
