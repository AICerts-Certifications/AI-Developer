{
 "cells": [
  {
   "cell_type": "markdown",
   "metadata": {},
   "source": [
    "**Module-3**\n",
    "1. **Title:** Python Fundamentals\n",
    "\n",
    "**Problem Statement:**\n",
    "Grasping the basic syntax of Python, which is crucial for building a solid foundation in programming. Understanding the roles of variables, data types, operators, expressions, and proper indentation is essential for writing clear and effective code. This hands-on aims to simplify these fundamental concepts, enabling beginners to confidently progress in their Python programming journey.\n",
    "\n"
   ]
  },
  {
   "cell_type": "markdown",
   "metadata": {},
   "source": [
    "**1. Variables:**\n",
    "Variables are used to store information that can be referenced and manipulated in a program."
   ]
  },
  {
   "cell_type": "code",
   "execution_count": null,
   "metadata": {},
   "outputs": [
    {
     "name": "stdout",
     "output_type": "stream",
     "text": [
      "10\n",
      "20.5\n",
      "John Doe\n",
      "15\n"
     ]
    }
   ],
   "source": [
    "#Example-1\n",
    "\n",
    "# Declaring and initializing variables\n",
    "x = 10\n",
    "y = 20.5\n",
    "name = \"John Doe\"\n",
    "\n",
    "# Printing variables\n",
    "print(x)  # Output: 10\n",
    "print(y)  # Output: 20.5\n",
    "print(name)  # Output: John Doe\n",
    "\n",
    "# Variable reassignment\n",
    "x = 15\n",
    "print(x)  # Output: 15\n"
   ]
  },
  {
   "cell_type": "code",
   "execution_count": null,
   "metadata": {},
   "outputs": [
    {
     "name": "stdout",
     "output_type": "stream",
     "text": [
      "Alice\n",
      "30\n",
      "3.14159\n",
      "True\n"
     ]
    }
   ],
   "source": [
    "#Example-2\n",
    "name = \"Alice\" # String\n",
    "age = 30 # Integer\n",
    "pi = 3.14159 # Float\n",
    "is_adult = True # Boolean\n",
    "print(name)\n",
    "print(age)\n",
    "print(pi)\n",
    "print(is_adult)"
   ]
  },
  {
   "cell_type": "markdown",
   "metadata": {},
   "source": [
    "**2. Data Types**\n",
    "Data types define the kind of value a variable can hold, such as integers, floating-point numbers, strings, etc."
   ]
  },
  {
   "cell_type": "code",
   "execution_count": null,
   "metadata": {},
   "outputs": [
    {
     "name": "stdout",
     "output_type": "stream",
     "text": [
      "<class 'int'>\n",
      "<class 'float'>\n",
      "<class 'str'>\n",
      "<class 'list'>\n",
      "<class 'dict'>\n"
     ]
    }
   ],
   "source": [
    "#Example-1:\n",
    "\n",
    "# Integer\n",
    "num = 10\n",
    "age = 30\n",
    "print(type(num))  # Output: <class 'int'>\n",
    "\n",
    "# Float\n",
    "pi = 3.14\n",
    "print(type(pi))  # Output: <class 'float'>\n",
    "\n",
    "# String\n",
    "greeting = \"Hello, World!\"\n",
    "print(type(greeting))  # Output: <class 'str'>\n",
    "\n",
    "# List\n",
    "fruits = [\"apple\", \"banana\", \"cherry\"]\n",
    "print(type(fruits))  # Output: <class 'list'>\n",
    "\n",
    "# Dictionary\n",
    "person = {\"name\": \"Alice\", \"age\": 25}\n",
    "print(type(person))  # Output: <class 'dict'>\n"
   ]
  },
  {
   "cell_type": "code",
   "execution_count": null,
   "metadata": {},
   "outputs": [
    {
     "name": "stdout",
     "output_type": "stream",
     "text": [
      "<class 'int'>\n",
      "<class 'float'>\n",
      "<class 'str'>\n",
      "<class 'bool'>\n"
     ]
    }
   ],
   "source": [
    "# Example-2:\n",
    "\n",
    "# Numbers\n",
    "print (type (10)) # <class 'int'>\n",
    "print (type (3.14)) # <class 'float'>\n",
    "\n",
    "# Text\n",
    "print(type(\"Hello\")) # <class 'str'>\n",
    "\n",
    "# True/False values\n",
    "print (type (True))  # <class 'bool'>"
   ]
  },
  {
   "cell_type": "markdown",
   "metadata": {},
   "source": [
    "**3. Operators:**\n",
    "Operators are special symbols that perform operations on variables and values."
   ]
  },
  {
   "cell_type": "code",
   "execution_count": null,
   "metadata": {},
   "outputs": [
    {
     "name": "stdout",
     "output_type": "stream",
     "text": [
      "15\n",
      "5\n",
      "50\n",
      "2.0\n",
      "True\n",
      "False\n",
      "True\n",
      "True\n",
      "15\n"
     ]
    }
   ],
   "source": [
    "#Example-1:\n",
    "\n",
    "# Arithmetic Operators\n",
    "a = 10\n",
    "b = 5\n",
    "print(a + b)  # Addition: Output: 15\n",
    "print(a - b)  # Subtraction: Output: 5\n",
    "print(a * b)  # Multiplication: Output: 50\n",
    "print(a / b)  # Division: Output: 2.0\n",
    "\n",
    "# Relational Operators\n",
    "print(a > b)  # Greater than: Output: True\n",
    "print(a < b)  # Less than: Output: False\n",
    "\n",
    "# Logical Operators\n",
    "print(a > 5 and b < 10)  # Logical AND: Output: True\n",
    "print(a > 15 or b < 10)  # Logical OR: Output: True\n",
    "\n",
    "# Assignment Operators\n",
    "a += 5  # Equivalent to a = a + 5\n",
    "print(a)  # Output: 15\n",
    "\n",
    "\n",
    "\n",
    "\n"
   ]
  },
  {
   "cell_type": "code",
   "execution_count": null,
   "metadata": {},
   "outputs": [
    {
     "name": "stdout",
     "output_type": "stream",
     "text": [
      "33.14\n",
      "True\n",
      "True\n"
     ]
    }
   ],
   "source": [
    "#Example-2:\n",
    "\n",
    "# Arithmetic\n",
    "age = 30 # Integer\n",
    "result = age + pi\n",
    "print(result) # 33.14159\n",
    "\n",
    "# Comparison\n",
    "is_equal = age == 30\n",
    "print(is_equal) # True\n",
    "\n",
    "# Logical\n",
    "is_young_and_adult = age < 35 and is_adult\n",
    "print(is_young_and_adult)  # True"
   ]
  },
  {
   "cell_type": "markdown",
   "metadata": {},
   "source": [
    "**4. Expressions:**\n",
    "An expression is a combination of variables, operators, and values that produce a result."
   ]
  },
  {
   "cell_type": "code",
   "execution_count": null,
   "metadata": {},
   "outputs": [
    {
     "name": "stdout",
     "output_type": "stream",
     "text": [
      "30\n",
      "65\n"
     ]
    }
   ],
   "source": [
    "#Example-1:\n",
    "\n",
    "# Simple expressions\n",
    "result = (10 + 5) * 2\n",
    "print(result)  # Output: 30\n",
    "\n",
    "# Expressions with variables\n",
    "x = 5\n",
    "y = 10\n",
    "z = x * y + (x + y)\n",
    "print(z)  # Output: 65\n"
   ]
  },
  {
   "cell_type": "code",
   "execution_count": null,
   "metadata": {},
   "outputs": [
    {
     "name": "stdout",
     "output_type": "stream",
     "text": [
      "63.14\n"
     ]
    }
   ],
   "source": [
    "#Example-2:\n",
    "age = 30.0000\n",
    "expression = (age * 2) + pi\n",
    "print(expression)"
   ]
  },
  {
   "cell_type": "markdown",
   "metadata": {},
   "source": [
    "**5. Indentation:**\n",
    "Indentation is used to define the scope of loops, functions, classes, and conditional statements. In Python, indentation is critical and must be consistent."
   ]
  },
  {
   "cell_type": "code",
   "execution_count": null,
   "metadata": {},
   "outputs": [
    {
     "name": "stdout",
     "output_type": "stream",
     "text": [
      "This is inside the if block\n",
      "This is still inside the if block\n",
      "This is outside the if block\n",
      "0\n",
      "1\n",
      "2\n",
      "3\n",
      "4\n",
      "Loop ended\n",
      "Hello, Alice\n"
     ]
    }
   ],
   "source": [
    "#Example-1:\n",
    "\n",
    "# Indentation with conditional statements\n",
    "if True:\n",
    "    print(\"This is inside the if block\")\n",
    "    if False:\n",
    "        print(\"This will not be printed\")\n",
    "    print(\"This is still inside the if block\")\n",
    "\n",
    "print(\"This is outside the if block\")\n",
    "\n",
    "# Indentation with loops\n",
    "for i in range(5):\n",
    "    print(i)  # This is inside the for loop\n",
    "print(\"Loop ended\")  # This is outside the for loop\n",
    "\n",
    "# Indentation with functions\n",
    "def greet(name):\n",
    "    print(f\"Hello, {name}\")\n",
    "\n",
    "greet(\"Alice\")  # Output: Hello, Alice\n"
   ]
  },
  {
   "cell_type": "code",
   "execution_count": null,
   "metadata": {},
   "outputs": [
    {
     "name": "stdout",
     "output_type": "stream",
     "text": [
      "You are an adult.\n"
     ]
    }
   ],
   "source": [
    "#Example-2:\n",
    "\n",
    "if age >= 18:\n",
    "    print (\"You are an adult.\")\n",
    "else:\n",
    "    print (\"You are not an adult.\")"
   ]
  }
 ],
 "metadata": {
  "kernelspec": {
   "display_name": "Python 3",
   "language": "python",
   "name": "python3"
  },
  "language_info": {
   "name": "python",
   "version": "3.12.4"
  }
 },
 "nbformat": 4,
 "nbformat_minor": 2
}
