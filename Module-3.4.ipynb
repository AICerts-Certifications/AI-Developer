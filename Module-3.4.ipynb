{
 "cells": [
  {
   "cell_type": "markdown",
   "metadata": {},
   "source": [
    "**Module-3.4**\n",
    "\n",
    "**4. Title:** Unlocking Python Functions: Mastering Arguments and Return Values\n",
    "\n",
    "**Problem Statement:**\n",
    "Functions are the building blocks of organized, reusable, and modular code in Python. However, many beginners struggle with understanding how to define and utilize functions effectively, especially when dealing with arguments and return values. This hands-on aims to provide a clear and comprehensive understanding of Python functions, focusing on how to pass arguments and handle return values. By mastering these concepts, learners can write more efficient and maintainable code, improving their overall programming proficiency."
   ]
  },
  {
   "cell_type": "markdown",
   "metadata": {},
   "source": [
    "**1. Functions:**\n",
    "\n",
    "Functions are blocks of code that perform a specific task, are reusable, and help in organizing code into manageable sections."
   ]
  },
  {
   "cell_type": "code",
   "execution_count": null,
   "metadata": {},
   "outputs": [
    {
     "name": "stdout",
     "output_type": "stream",
     "text": [
      "Hello, world!\n"
     ]
    }
   ],
   "source": [
    "#Example-1:\n",
    "\n",
    "# Defining a simple function\n",
    "def greet():                    #def function_name(parameters):\n",
    "    print(\"Hello, world!\")      #     code to execute\n",
    "\n",
    "# Calling the function\n",
    "greet()\n",
    "\n",
    "# Output: Hello, world!\n"
   ]
  },
  {
   "cell_type": "code",
   "execution_count": null,
   "metadata": {},
   "outputs": [
    {
     "name": "stdout",
     "output_type": "stream",
     "text": [
      "The distance is: 2.8284271247461903\n"
     ]
    }
   ],
   "source": [
    "#Example-2:\n",
    "\n",
    "def calculate_distance(x1, y1, x2, y2):\n",
    "    distance = ((x2 - x1)**2 + (y2 - y1)**2)**0.5\n",
    "    return distance\n",
    "\n",
    "distance = calculate_distance(1, 2, 3, 4)\n",
    "print(f\"The distance is: {distance}\")"
   ]
  },
  {
   "cell_type": "markdown",
   "metadata": {},
   "source": [
    "**2. Arguments**\n",
    "\n",
    "Arguments are values that you can pass to a function to customize its behavior. There are different types of arguments: positional, keyword, default, and variable-length."
   ]
  },
  {
   "cell_type": "code",
   "execution_count": null,
   "metadata": {},
   "outputs": [
    {
     "name": "stdout",
     "output_type": "stream",
     "text": [
      "8\n",
      "Hello, Alice!\n",
      "Hello, Guest!\n",
      "I have a dog named Rex.\n",
      "15\n",
      "name: John\n",
      "age: 30\n",
      "city: New York\n"
     ]
    }
   ],
   "source": [
    "#Example-1:\n",
    "\n",
    "# Function with positional arguments\n",
    "def add(a, b):\n",
    "    return a + b\n",
    "\n",
    "result = add(5, 3)\n",
    "print(result)  # Output: 8\n",
    "\n",
    "# Function with default arguments\n",
    "def greet(name=\"Guest\"):\n",
    "    print(f\"Hello, {name}!\")\n",
    "\n",
    "greet(\"Alice\")  # Output: Hello, Alice!\n",
    "greet()         # Output: Hello, Guest!\n",
    "\n",
    "# Function with keyword arguments\n",
    "def describe_pet(animal_type, pet_name):\n",
    "    print(f\"I have a {animal_type} named {pet_name}.\")\n",
    "\n",
    "describe_pet(animal_type=\"dog\", pet_name=\"Rex\")\n",
    "# Output: I have a dog named Rex.\n",
    "\n",
    "# Function with variable-length arguments (*args)\n",
    "def sum_all(*args):\n",
    "    return sum(args)\n",
    "\n",
    "total = sum_all(1, 2, 3, 4, 5)\n",
    "print(total)  # Output: 15\n",
    "\n",
    "# Function with variable-length keyword arguments (**kwargs)\n",
    "def describe_person(**kwargs):\n",
    "    for key, value in kwargs.items():\n",
    "        print(f\"{key}: {value}\")\n",
    "\n",
    "describe_person(name=\"John\", age=30, city=\"New York\")\n",
    "# Output:\n",
    "# name: John\n",
    "# age: 30\n",
    "# city: New York\n"
   ]
  },
  {
   "cell_type": "code",
   "execution_count": null,
   "metadata": {},
   "outputs": [
    {
     "name": "stderr",
     "output_type": "stream",
     "text": [
      "No model was supplied, defaulted to distilbert/distilbert-base-uncased-finetuned-sst-2-english and revision af0f99b (https://huggingface.co/distilbert/distilbert-base-uncased-finetuned-sst-2-english).\n",
      "Using a pipeline without specifying a model name and revision in production is not recommended.\n",
      "/usr/local/lib/python3.10/dist-packages/huggingface_hub/file_download.py:1132: FutureWarning: `resume_download` is deprecated and will be removed in version 1.0.0. Downloads always resume when possible. If you want to force a new download, use `force_download=True`.\n",
      "  warnings.warn(\n",
      "/usr/local/lib/python3.10/dist-packages/huggingface_hub/utils/_token.py:89: UserWarning: \n",
      "The secret `HF_TOKEN` does not exist in your Colab secrets.\n",
      "To authenticate with the Hugging Face Hub, create a token in your settings tab (https://huggingface.co/settings/tokens), set it as secret in your Google Colab and restart your session.\n",
      "You will be able to reuse this secret in all of your notebooks.\n",
      "Please note that authentication is recommended but still optional to access public models or datasets.\n",
      "  warnings.warn(\n"
     ]
    },
    {
     "data": {
      "application/vnd.jupyter.widget-view+json": {
       "model_id": "58d2c531e25d4e8a80a7964ea162d3d3",
       "version_major": 2,
       "version_minor": 0
      },
      "text/plain": [
       "config.json:   0%|          | 0.00/629 [00:00<?, ?B/s]"
      ]
     },
     "metadata": {},
     "output_type": "display_data"
    },
    {
     "data": {
      "application/vnd.jupyter.widget-view+json": {
       "model_id": "174caad3b9e34a99b290addb059d1ed1",
       "version_major": 2,
       "version_minor": 0
      },
      "text/plain": [
       "model.safetensors:   0%|          | 0.00/268M [00:00<?, ?B/s]"
      ]
     },
     "metadata": {},
     "output_type": "display_data"
    },
    {
     "data": {
      "application/vnd.jupyter.widget-view+json": {
       "model_id": "db9c38f494154fb7a0c15b1082263c14",
       "version_major": 2,
       "version_minor": 0
      },
      "text/plain": [
       "tokenizer_config.json:   0%|          | 0.00/48.0 [00:00<?, ?B/s]"
      ]
     },
     "metadata": {},
     "output_type": "display_data"
    },
    {
     "data": {
      "application/vnd.jupyter.widget-view+json": {
       "model_id": "7b25e7d6f5c2425789008f5af9724fc5",
       "version_major": 2,
       "version_minor": 0
      },
      "text/plain": [
       "vocab.txt:   0%|          | 0.00/232k [00:00<?, ?B/s]"
      ]
     },
     "metadata": {},
     "output_type": "display_data"
    },
    {
     "name": "stdout",
     "output_type": "stream",
     "text": [
      "Predicted sentiment: [{'label': 'POSITIVE', 'score': 0.9998800754547119}]\n"
     ]
    }
   ],
   "source": [
    "#Example-2:\n",
    "\n",
    "from transformers import pipeline\n",
    "\n",
    "# Load a pre-trained sentiment analysis pipeline\n",
    "sentiment_model = pipeline(\"sentiment-analysis\")\n",
    "def predict_sentiment(text, model):\n",
    "    sentiment = model.predict(text)\n",
    "    return sentiment\n",
    "\n",
    "predicted_sentiment = predict_sentiment(\"This movie was amazing!\", sentiment_model)\n",
    "print(f\"Predicted sentiment: {predicted_sentiment}\")"
   ]
  },
  {
   "cell_type": "markdown",
   "metadata": {},
   "source": [
    "**3. Return Value**\n",
    "\n",
    "The return statement is used in a function to send back a value to the caller. This allows a function to produce an output."
   ]
  },
  {
   "cell_type": "code",
   "execution_count": null,
   "metadata": {},
   "outputs": [
    {
     "name": "stdout",
     "output_type": "stream",
     "text": [
      "16\n",
      "(12, 8, 20, 5.0)\n",
      "Sum: 12, Difference: 8, Product: 20, Quotient: 5.0\n"
     ]
    }
   ],
   "source": [
    "#Example-1\n",
    "\n",
    "# Function with a return value\n",
    "def square(number):\n",
    "    return number * number\n",
    "\n",
    "result = square(4)\n",
    "print(result)  # Output: 16\n",
    "\n",
    "# Function with multiple return values\n",
    "def arithmetic_operations(a, b):\n",
    "    sum = a + b\n",
    "    diff = a - b\n",
    "    prod = a * b\n",
    "    quot = a / b\n",
    "    return sum, diff, prod, quot\n",
    "\n",
    "result = arithmetic_operations(10, 2)\n",
    "print(result)  # Output: (12, 8, 20, 5.0)\n",
    "\n",
    "# Assigning multiple return values to variables\n",
    "sum, diff, prod, quot = arithmetic_operations(10, 2)\n",
    "print(f\"Sum: {sum}, Difference: {diff}, Product: {prod}, Quotient: {quot}\")\n",
    "# Output: Sum: 12, Difference: 8, Product: 20, Quotient: 5.0\n"
   ]
  },
  {
   "cell_type": "code",
   "execution_count": null,
   "metadata": {},
   "outputs": [
    {
     "name": "stdout",
     "output_type": "stream",
     "text": [
      "Sensor readings: [25, 32, 40]\n"
     ]
    }
   ],
   "source": [
    "#Example-2:\n",
    "\n",
    "def get_sensor_data():\n",
    "    # Simulate sensor data acquisition\n",
    "    data = [25, 32, 40]\n",
    "    return data\n",
    "\n",
    "sensor_readings = get_sensor_data()\n",
    "print(f\"Sensor readings: {sensor_readings}\")"
   ]
  }
 ],
 "metadata": {
  "language_info": {
   "name": "python"
  }
 },
 "nbformat": 4,
 "nbformat_minor": 2
}
