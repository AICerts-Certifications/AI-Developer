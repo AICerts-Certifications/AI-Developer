{
 "cells": [
  {
   "cell_type": "markdown",
   "metadata": {},
   "source": [
    "**Module-3.6**\n",
    "\n",
    "**6.Title:** Organizing Python Code: Mastering Modules, Packages, and Namespaces\n",
    "\n",
    "**Problem Statement:**\n",
    "As Python projects grow in complexity, the need for organized, maintainable, and reusable code becomes critical. However, many developers struggle with effectively structuring their codebase using modules and packages, and understanding how namespaces work to avoid conflicts. This guide aims to demystify the concepts of modules, packages, and namespaces, providing clear explanations and practical examples to help developers organize their Python code efficiently and avoid common pitfalls associated with namespace collisions."
   ]
  },
  {
   "cell_type": "markdown",
   "metadata": {},
   "source": [
    "**1. Modules:**\n",
    "\n",
    "A module is a file containing Python definitions and statements. Modules can define functions, classes, and variables, and can also include runnable code."
   ]
  },
  {
   "cell_type": "code",
   "execution_count": null,
   "metadata": {},
   "outputs": [
    {
     "name": "stdout",
     "output_type": "stream",
     "text": [
      "5.0\n",
      "3.141592653589793\n"
     ]
    }
   ],
   "source": [
    "# Calculate the square root of 25\n",
    "import math\n",
    "print(math.sqrt(25)) #Output: 5.0\n",
    "# Calculate the value of pi\n",
    "pi_value = math.pi\n",
    "print(pi_value) # Output: 3.141592653589793\n"
   ]
  },
  {
   "cell_type": "markdown",
   "metadata": {},
   "source": [
    "**2. Understanding Namespaces:**\n",
    "\n",
    "A namespace is a container that holds a set of identifiers (names) and ensures that all the names within it are unique. Different namespaces can contain the same name but map to different objects.\n",
    "\n",
    "\n",
    "**Types of Namespaces:**\n",
    "\n",
    "1. Built-in Namespace: Contains built-in functions and exceptions (e.g., print, len).\n",
    "2. Global Namespace: Contains names defined at the top level of a script or module.\n",
    "3. Local Namespace: Contains names defined inside a function."
   ]
  },
  {
   "cell_type": "markdown",
   "metadata": {},
   "source": [
    "**Global vs Local Namespace:**"
   ]
  },
  {
   "cell_type": "code",
   "execution_count": null,
   "metadata": {},
   "outputs": [
    {
     "name": "stdout",
     "output_type": "stream",
     "text": [
      "I am a global variable\n",
      "I am a local variable\n"
     ]
    }
   ],
   "source": [
    "# global_namespace.py\n",
    "\n",
    "global_var = \"I am a global variable\"\n",
    "\n",
    "def my_function():\n",
    "    local_var = \"I am a local variable\"\n",
    "    print(global_var)  # Accessing global variable\n",
    "    print(local_var)   # Accessing local variable\n",
    "\n",
    "my_function()\n",
    "\n",
    "# Output:\n",
    "# I am a global variable\n",
    "# I am a local variable\n",
    "\n",
    "# This will raise an error because 'local_var' is not defined in the global scope\n",
    "# print(local_var)\n"
   ]
  },
  {
   "cell_type": "markdown",
   "metadata": {},
   "source": [
    "**Namespace and Scope:**"
   ]
  },
  {
   "cell_type": "code",
   "execution_count": null,
   "metadata": {},
   "outputs": [
    {
     "name": "stdout",
     "output_type": "stream",
     "text": [
      "Outer\n",
      "Inner\n"
     ]
    }
   ],
   "source": [
    "# scope_example.py\n",
    "\n",
    "def outer_function():\n",
    "    outer_var = \"Outer\"\n",
    "\n",
    "    def inner_function():\n",
    "        inner_var = \"Inner\"\n",
    "        print(outer_var)  # Accessing outer function variable\n",
    "        print(inner_var)  # Accessing inner function variable\n",
    "\n",
    "    inner_function()\n",
    "\n",
    "outer_function()\n",
    "\n",
    "# Output:\n",
    "# Outer\n",
    "# Inner\n",
    "\n",
    "# This will raise an error because 'inner_var' is not defined in the global scope\n",
    "# print(inner_var)\n"
   ]
  },
  {
   "cell_type": "code",
   "execution_count": null,
   "metadata": {},
   "outputs": [
    {
     "name": "stdout",
     "output_type": "stream",
     "text": [
      "3.141592653589793\n",
      "False\n"
     ]
    }
   ],
   "source": [
    "#Example-2\n",
    "\n",
    "# Module example\n",
    "# math_module.py\n",
    "pi = 3.1416\n",
    "\n",
    "# main script\n",
    "import math\n",
    "print(math.pi)  # Outputs: 3.1416\n",
    "# Logical\n",
    "is_young_and_adult = age < 35 and is_adult\n",
    "print(is_young_and_adult)  # True"
   ]
  }
 ],
 "metadata": {
  "language_info": {
   "name": "python"
  }
 },
 "nbformat": 4,
 "nbformat_minor": 2
}
