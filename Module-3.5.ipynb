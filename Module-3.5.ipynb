{
 "cells": [
  {
   "cell_type": "markdown",
   "metadata": {},
   "source": [
    "**Module-3.5**\n",
    "\n",
    "**5. Title:** Python Data Structures: Lists, Tuples, Dictionaries, Sets, and Nested Structures\n",
    "\n",
    "**Problem Statement:**\n",
    "\n",
    "Efficient data management and manipulation are at the heart of programming, and Python offers a diverse range of data structures to cater to these needs. However, many beginners struggle with understanding and effectively utilizing these data structures—lists, tuples, dictionaries, sets, and nested structures—which are essential for storing, accessing, and manipulating data in various ways. This hands-on aims to demystify these core Python data structures, providing clear explanations and practical examples to help learners harness their full potential for writing efficient and optimized code."
   ]
  },
  {
   "cell_type": "markdown",
   "metadata": {},
   "source": [
    "**1.Lists:**\n",
    "\n",
    "Lists are ordered, mutable collections of items that can be of any type."
   ]
  },
  {
   "cell_type": "code",
   "execution_count": null,
   "metadata": {},
   "outputs": [
    {
     "name": "stdout",
     "output_type": "stream",
     "text": [
      "['apple', 'banana', 'cherry']\n",
      "apple\n",
      "['apple', 'blueberry', 'cherry']\n",
      "['apple', 'blueberry', 'cherry', 'date']\n",
      "['blueberry', 'cherry', 'date']\n",
      "blueberry\n",
      "cherry\n",
      "date\n"
     ]
    }
   ],
   "source": [
    "#Example-1:\n",
    "\n",
    "# Creating a list\n",
    "fruits = [\"apple\", \"banana\", \"cherry\"]\n",
    "print(fruits)  # Output: ['apple', 'banana', 'cherry']\n",
    "\n",
    "# Accessing elements\n",
    "print(fruits[0])  # Output: apple\n",
    "\n",
    "# Modifying elements\n",
    "fruits[1] = \"blueberry\"\n",
    "print(fruits)  # Output: ['apple', 'blueberry', 'cherry']\n",
    "\n",
    "# Adding elements\n",
    "fruits.append(\"date\")\n",
    "print(fruits)  # Output: ['apple', 'blueberry', 'cherry', 'date']\n",
    "\n",
    "# Removing elements\n",
    "fruits.remove(\"apple\")\n",
    "print(fruits)  # Output: ['blueberry', 'cherry', 'date']\n",
    "\n",
    "# Iterating over a list\n",
    "for fruit in fruits:\n",
    "    print(fruit)\n",
    "# Output:\n",
    "# blueberry\n",
    "# cherry\n",
    "# date\n"
   ]
  },
  {
   "cell_type": "code",
   "execution_count": null,
   "metadata": {},
   "outputs": [
    {
     "name": "stdout",
     "output_type": "stream",
     "text": [
      "[10, 'hello', True]\n"
     ]
    }
   ],
   "source": [
    "#Example-2:\n",
    "\n",
    "data = [10, \"hello\", True]\n",
    "print(data)"
   ]
  },
  {
   "cell_type": "markdown",
   "metadata": {},
   "source": [
    "**2. Tuples**\n",
    "\n",
    "Tuples are ordered, immutable collections of items."
   ]
  },
  {
   "cell_type": "code",
   "execution_count": null,
   "metadata": {},
   "outputs": [
    {
     "name": "stdout",
     "output_type": "stream",
     "text": [
      "('red', 'green', 'blue')\n",
      "green\n",
      "red\n",
      "green\n",
      "blue\n",
      "x: 10, y: 20\n"
     ]
    }
   ],
   "source": [
    "#Example-1\n",
    "\n",
    "# Creating a tuple\n",
    "colors = (\"red\", \"green\", \"blue\")\n",
    "print(colors)  # Output: ('red', 'green', 'blue')\n",
    "\n",
    "# Accessing elements\n",
    "print(colors[1])  # Output: green\n",
    "\n",
    "# Tuples are immutable, so you cannot modify them\n",
    "# colors[1] = \"yellow\"  # This will raise an error\n",
    "\n",
    "# Iterating over a tuple\n",
    "for color in colors:\n",
    "    print(color)\n",
    "# Output:\n",
    "# red\n",
    "# green\n",
    "# blue\n",
    "\n",
    "# Tuples can be used to return multiple values from a function\n",
    "def get_coordinates():\n",
    "    return (10, 20)\n",
    "\n",
    "x, y = get_coordinates()\n",
    "print(f\"x: {x}, y: {y}\")  # Output: x: 10, y: 20\n"
   ]
  },
  {
   "cell_type": "code",
   "execution_count": null,
   "metadata": {},
   "outputs": [
    {
     "name": "stdout",
     "output_type": "stream",
     "text": [
      "10\n"
     ]
    }
   ],
   "source": [
    "#Example-2\n",
    "\n",
    "my_tuple = (10, 20, 30)\n",
    "first_element = my_tuple[0]  # Access the first element (10)\n",
    "print(my_tuple[0])"
   ]
  },
  {
   "cell_type": "markdown",
   "metadata": {},
   "source": [
    "**3. Dictionaries:**\n",
    "\n",
    "Dictionaries are unordered collections of key-value pairs."
   ]
  },
  {
   "cell_type": "code",
   "execution_count": null,
   "metadata": {},
   "outputs": [
    {
     "name": "stdout",
     "output_type": "stream",
     "text": [
      "{'name': 'David', 'age': 30, 'city': 'New York'}\n",
      "David\n",
      "{'name': 'David', 'age': 31, 'city': 'New York'}\n",
      "{'name': 'David', 'age': 31, 'city': 'New York', 'email': 'aicerts@example.com'}\n",
      "{'name': 'David', 'age': 31, 'email': 'aicerts@example.com'}\n",
      "name: David\n",
      "age: 31\n",
      "email: aicerts@example.com\n"
     ]
    }
   ],
   "source": [
    "#Example-1\n",
    "\n",
    "# Creating a dictionary\n",
    "person = {\"name\": \"David\", \"age\": 30, \"city\": \"New York\"}\n",
    "print(person)  # Output: {'name': 'Alice', 'age': 30, 'city': 'New York'}\n",
    "\n",
    "# Accessing values\n",
    "print(person[\"name\"])  # Output: Alice\n",
    "\n",
    "# Modifying values\n",
    "person[\"age\"] = 31\n",
    "print(person)  # Output: {'name': 'Alice', 'age': 31, 'city': 'New York'}\n",
    "\n",
    "# Adding key-value pairs\n",
    "person[\"email\"] = \"aicerts@example.com\"\n",
    "print(person)  # Output: {'name': 'Alice', 'age': 31, 'city': 'New York', 'email': 'alice@example.com'}\n",
    "\n",
    "# Removing key-value pairs\n",
    "del person[\"city\"]\n",
    "print(person)  # Output: {'name': 'Alice', 'age': 31, 'email': 'alice@example.com'}\n",
    "\n",
    "# Iterating over a dictionary\n",
    "for key, value in person.items():\n",
    "    print(f\"{key}: {value}\")\n",
    "# Output:\n",
    "# name: Alice\n",
    "# age: 31\n",
    "# email: alice@example.com\n"
   ]
  },
  {
   "cell_type": "code",
   "execution_count": null,
   "metadata": {},
   "outputs": [
    {
     "name": "stdout",
     "output_type": "stream",
     "text": [
      "20\n",
      "Alice\n"
     ]
    }
   ],
   "source": [
    "#Example-2\n",
    "\n",
    "\n",
    "person = {\"name\": \"Alice\", \"age\": 30}\n",
    "person[age]=20\n",
    "print(person[age])\n",
    "print(person[\"name\"])"
   ]
  },
  {
   "cell_type": "markdown",
   "metadata": {},
   "source": [
    "**4. Sets**\n",
    "\n",
    "Sets are unordered collections of unique items."
   ]
  },
  {
   "cell_type": "code",
   "execution_count": null,
   "metadata": {},
   "outputs": [
    {
     "name": "stdout",
     "output_type": "stream",
     "text": [
      "{1, 2, 3, 4, 5}\n",
      "{1, 2, 3, 4, 5, 6}\n",
      "{1, 2, 4, 5, 6}\n",
      "{1, 2, 4, 5, 6}\n",
      "1\n",
      "2\n",
      "4\n",
      "5\n",
      "6\n"
     ]
    }
   ],
   "source": [
    "#Example-1\n",
    "\n",
    "# Creating a set\n",
    "numbers = {1, 2, 3, 4, 5}\n",
    "print(numbers)  # Output: {1, 2, 3, 4, 5}\n",
    "\n",
    "# Adding elements\n",
    "numbers.add(6)\n",
    "print(numbers)  # Output: {1, 2, 3, 4, 5, 6}\n",
    "\n",
    "# Removing elements\n",
    "numbers.remove(3)\n",
    "print(numbers)  # Output: {1, 2, 4, 5, 6}\n",
    "\n",
    "# Sets automatically remove duplicates\n",
    "numbers.add(2)\n",
    "print(numbers)  # Output: {1, 2, 4, 5, 6}\n",
    "\n",
    "# Iterating over a set\n",
    "for num in numbers:\n",
    "    print(num)\n",
    "# Output:\n",
    "# 1\n",
    "# 2\n",
    "# 4\n",
    "# 5\n",
    "# 6\n"
   ]
  },
  {
   "cell_type": "code",
   "execution_count": null,
   "metadata": {},
   "outputs": [
    {
     "name": "stdout",
     "output_type": "stream",
     "text": [
      "{'banana', 'apple'}\n"
     ]
    }
   ],
   "source": [
    "#Example-2\n",
    "\n",
    "unique_words = {\"apple\", \"banana\", \"apple\"}\n",
    "unique_words.add(\"apple\")\n",
    "print(unique_words)"
   ]
  },
  {
   "cell_type": "markdown",
   "metadata": {},
   "source": [
    "**5. Nested Structures:**\n",
    "\n",
    "Nested structures are data structures that contain other data structures as elements."
   ]
  },
  {
   "cell_type": "code",
   "execution_count": null,
   "metadata": {},
   "outputs": [
    {
     "name": "stdout",
     "output_type": "stream",
     "text": [
      "[[1, 2, 3], [4, 5, 6], [7, 8, 9]]\n",
      "6\n",
      "{'Alice': [85, 92, 78], 'Bob': [79, 95, 88]}\n",
      "92\n",
      "[{'name': 'Alice', 'age': 30}, {'name': 'Bob', 'age': 25}]\n",
      "Alice\n"
     ]
    }
   ],
   "source": [
    "#Example-1\n",
    "\n",
    "# List of lists\n",
    "matrix = [\n",
    "    [1, 2, 3],\n",
    "    [4, 5, 6],\n",
    "    [7, 8, 9]\n",
    "]\n",
    "print(matrix)  # Output: [[1, 2, 3], [4, 5, 6], [7, 8, 9]]\n",
    "\n",
    "# Accessing elements in a nested list\n",
    "print(matrix[1][2])  # Output: 6\n",
    "\n",
    "# Dictionary with lists as values\n",
    "students = {\n",
    "    \"Alice\": [85, 92, 78],\n",
    "    \"Bob\": [79, 95, 88]\n",
    "}\n",
    "print(students)  # Output: {'Alice': [85, 92, 78], 'Bob': [79, 95, 88]}\n",
    "\n",
    "# Accessing elements in a nested dictionary\n",
    "print(students[\"Alice\"][1])  # Output: 92\n",
    "\n",
    "# List of dictionaries\n",
    "people = [\n",
    "    {\"name\": \"Alice\", \"age\": 30},\n",
    "    {\"name\": \"Bob\", \"age\": 25}\n",
    "]\n",
    "print(people)  # Output: [{'name': 'Alice', 'age': 30}, {'name': 'Bob', 'age': 25}]\n",
    "\n",
    "# Accessing elements in a list of dictionaries\n",
    "print(people[0][\"name\"])  # Output: Alice\n"
   ]
  },
  {
   "cell_type": "code",
   "execution_count": null,
   "metadata": {},
   "outputs": [
    {
     "name": "stdout",
     "output_type": "stream",
     "text": [
      "{'item1': [10, 20], 'item2': {'name': 'book', 'price': 15}}\n"
     ]
    }
   ],
   "source": [
    "#Example-2\n",
    "\n",
    "inventory = {\"item1\": [10, 20], \"item2\": {\"name\": \"book\", \"price\": 15}}\n",
    "print(inventory)\n"
   ]
  }
 ],
 "metadata": {
  "language_info": {
   "name": "python"
  }
 },
 "nbformat": 4,
 "nbformat_minor": 2
}
